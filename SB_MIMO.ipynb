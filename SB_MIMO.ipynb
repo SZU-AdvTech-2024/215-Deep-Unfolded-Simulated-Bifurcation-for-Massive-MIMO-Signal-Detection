{
 "cells": [
  {
   "cell_type": "code",
   "execution_count": 1,
   "metadata": {
    "colab": {
     "base_uri": "https://localhost:8080/"
    },
    "id": "8fvTCIAGFGcQ",
    "outputId": "ef1aea7f-deb1-4ce9-b7c1-a60862de3fd9"
   },
   "outputs": [
    {
     "name": "stdout",
     "output_type": "stream",
     "text": [
      "2.0.1\n"
     ]
    }
   ],
   "source": [
    "import math\n",
    "import random\n",
    "import numpy as np\n",
    "import copy\n",
    "import matplotlib.pyplot as plt\n",
    "import torch\n",
    "import torch.nn as nn\n",
    "import torch.optim as optim\n",
    "import torch.nn.functional as F\n",
    "\n",
    "device = torch.device('cuda') # 'cpu' or 'cuda'\n",
    "print(torch.__version__)"
   ]
  },
  {
   "cell_type": "code",
   "execution_count": null,
   "metadata": {
    "id": "O19m4EHsFfl5"
   },
   "outputs": [],
   "source": [
    "## model parameters\n",
    "n=16 #150\n",
    "m=16 #96\n",
    "snr = 20.0  # SNR per receive antenna [dB]\n",
    "##\n",
    "N=2*n\n",
    "M=2*m\n",
    "##\n",
    "\n",
    "## parameters for evauation of generalization error\n",
    "bs = 10000 # number of samples of x for each H\n",
    "ss = 1000 # number of H\n",
    "##\n",
    "\n",
    "# SB settings\n",
    "eps = 1.0\n",
    "T_max = 50\n",
    "pump_SB = 1.0/(T_max*eps) #0.01 # pump coeff\n",
    "D_SB = 1. # delta\n",
    "xi_SB = 0.1 # xi_0\n"
   ]
  },
  {
   "cell_type": "code",
   "execution_count": 3,
   "metadata": {
    "id": "2hX8F27WFlNf"
   },
   "outputs": [],
   "source": [
    "def x_gen(bs,n):\n",
    "    x = torch.rand(bs,n).to(device)\n",
    "    x[x<0.5] = -1\n",
    "    x[x>0.5] = 1\n",
    "    return x\n",
    "def y_gen(bs,m,x0,H,sigma_std):\n",
    "    return x0@H+ torch.normal(0.0, sigma_std*torch.ones(bs, m)).to(device)\n",
    "\n",
    "def trans_2_QUBO(H,y):\n",
    "    J = H@H.t() - torch.diag(torch.diagonal(H@H.t(),0))\n",
    "    h = -2*y@H.t()\n",
    "    return J,h\n",
    "\n",
    "def trans_2_QUBO_LMMSE(H,y,lam):\n",
    "    H_inv = torch.linalg.inv(H.t()@H+lam*torch.eye(M,device=device)) #dim:M*M\n",
    "    J = H@H_inv@H.t() - torch.diag(torch.diagonal(H@H_inv@H.t(),0))\n",
    "    h = -2*y@H_inv@H.t()\n",
    "    lmax_2 = ((J*J).sum()/(N*(N-1)))**0.5 #estimated max. eig.\n",
    "    return J,h, 1.0/(2*N**0.5*lmax_2)\n",
    "\n",
    "def BER(x,y):\n",
    "    z = torch.ones(x.size()).to(device)\n",
    "    z[torch.isclose(torch.sign(x),torch.sign(y))] = 0.\n",
    "    return z.sum()/(z.numel())\n",
    "\n",
    "seed_ =12\n",
    "torch.manual_seed(seed_)\n",
    "# QPSK\n",
    "def H_gen(m,n):\n",
    "    H_re = torch.normal(0.0, std=math.sqrt(0.5) * torch.ones(n,m))\n",
    "    H_im = torch.normal(0.0, std=math.sqrt(0.5) * torch.ones(n,m))  # sensing matrix\n",
    "    H = torch.cat((torch.cat((H_re,H_im),0),torch.cat((-1*H_im,H_re),0)),1)\n",
    "    H = H.to(device)\n",
    "    return H\n",
    "\n",
    "#SNR\n",
    "def est_SNR(snr,m,n):\n",
    "    sigma2 = (2*n/math.pow(10,snr/10.0))/2.0\n",
    "    sigma_std = math.sqrt(sigma2)\n",
    "    return sigma_std\n"
   ]
  },
  {
   "cell_type": "markdown",
   "metadata": {
    "id": "Y1dCmNYMbuIH"
   },
   "source": [
    "### ML-SB\n",
    "naive SB detector maximum log likelihood"
   ]
  },
  {
   "cell_type": "code",
   "execution_count": 4,
   "metadata": {
    "id": "MPI6WR1eGGlD"
   },
   "outputs": [],
   "source": [
    "# pumping amp.\n",
    "def Pump(t,pump_SB):\n",
    "    #print(t, t/(T_max*eps))\n",
    "    return  (t/(T_max*eps))**1.0 #pump_SB * t\n",
    "\n",
    "def Dqd(q, t,J,h,D_SB,pump_SB,xi_SB,bai,d_flag):\n",
    "    if d_flag == 0:\n",
    "        # ballistic ver. by arXiv:2210.14660\n",
    "        DE_QUBO = q@J + 0.5*h\n",
    "    if d_flag == 1:\n",
    "        # discritized ver. by arXiv:2210.14660\n",
    "        DE_QUBO = q.sign()@J + 0.5*h\n",
    "    return - bai*(-Pump(t,pump_SB) + D_SB) * q - xi_SB * DE_QUBO\n",
    "\n",
    "def dSB(q,p,t,eps,J,h,D_SB,pump_SB,xi_SB,bai,d_flag):\n",
    "    q_ = q + (eps * D_SB) * p #diff(p,K)\n",
    "    q_2 = torch.clamp(q_, min=-1.,max=1.)\n",
    "    p_ = p + eps * Dqd(q_2,t,J,h,D_SB,pump_SB,xi_SB,bai,d_flag) #diff(q,Po)\n",
    "    p_[torch.abs(q_)>1] = 0.0\n",
    "    return q_2,p_\n",
    "\n",
    "def dSB_MIMO(T_max,bs,M,N,J,h,D_SB,pump_SB,xi_SB,eps,bai,d_flag):\n",
    "    q = torch.zeros(bs, N,device=device) # x\n",
    "    p = torch.zeros(bs, N,device=device) # y\n",
    "    q_traj = np.zeros([T_max, N]) # trajectory\n",
    "    p_traj = np.zeros([T_max, N]) # trajectory\n",
    "    p = torch.randn(bs,N,device=device)\n",
    "    #p[:,:] = torch.randn(bs,N)#0.2#1.0/N**2\n",
    "    #ene_init = ene(q, p, np.zeros(1)).item()\n",
    "    #print(p)\n",
    "    t = 0.0\n",
    "\n",
    "    for i in range(T_max):\n",
    "        t = t + eps\n",
    "        q, p = dSB(q,p,t,eps,J,h,D_SB,pump_SB,xi_SB,bai,d_flag)\n",
    "        q_traj[i]=q[0,:].cpu().detach().numpy()\n",
    "        p_traj[i]=p[0,:].cpu().detach().numpy()\n",
    "    return q, p, q_traj, p_traj"
   ]
  },
  {
   "cell_type": "code",
   "execution_count": 5,
   "metadata": {
    "colab": {
     "base_uri": "https://localhost:8080/"
    },
    "id": "7lwQgeMfRvew",
    "outputId": "d270fa43-1a99-4aed-c50b-1cac7454b15c"
   },
   "outputs": [
    {
     "name": "stdout",
     "output_type": "stream",
     "text": [
      "SNR, BER\n",
      "5.0 0.10832144927978515\n",
      "10.0 0.004345452308654785\n",
      "15.0 6.433901935815811e-05\n",
      "20.0 1.764686405658722e-05\n",
      "25.0 1.214218232780695e-05\n",
      "30.0 1.1892187409102916e-05\n",
      "35.0 9.746871888637543e-06\n"
     ]
    }
   ],
   "source": [
    "trial=1 # repeating from another init point\n",
    "ss = 1000\n",
    "d_flag = 0 #0=ballisctic(no sign), 1=digital(sign)\n",
    "\n",
    "print(\"SNR, BER\")\n",
    "for snr in np.arange(5.0,35.1,5.0):\n",
    "    sigma_std = est_SNR(snr, m,n)\n",
    "    ber_ =0.0\n",
    "    for i in range(ss):\n",
    "        H = H_gen(m,n)\n",
    "        sol = x_gen(bs,N)\n",
    "        y = y_gen(bs,M,sol,H,sigma_std)\n",
    "        J, h = trans_2_QUBO(H,y)\n",
    "        lmax_2 = ((J*J).sum()/(N*(N-1)))**0.5 #estimated max. eig.\n",
    "        #print(torch.linalg.eigvals(J.t()@J).abs().max()**0.5,torch.linalg.eigvals(J_.t()@J_).abs().max()**0.5,2*N**0.5*lmax_2)\n",
    "        xi_SB_ = D_SB/(2*N**0.5*lmax_2)\n",
    "        xx = torch.zeros(bs,N,device=device)\n",
    "        res = 100*torch.ones(bs,N,device=device)\n",
    "        for k in range(trial):\n",
    "            x_hat ,_,q_traj ,_= dSB_MIMO(T_max,bs,M,N,J,h,D_SB,pump_SB,xi_SB_,eps,1.0,d_flag)\n",
    "            res_ = (y-x_hat.sign()@H).norm(dim=1).view(bs,1).repeat(1,N).view(bs,N)\n",
    "            #print(res_)\n",
    "            xx[res_<res] = x_hat[res_<res]\n",
    "            res[res_<res] = res_[res_<res]\n",
    "        ber_ += BER(sol,xx.sign())\n",
    "    print(snr, ber_.item()/ss)"
   ]
  },
  {
   "cell_type": "markdown",
   "metadata": {
    "id": "nurdwnLCQnKD"
   },
   "source": [
    "### MMSE-guided SB\n",
    "\n",
    "cf) W.Zhang and Y-L. Zheng, arXiv:2210.14660, 2022"
   ]
  },
  {
   "cell_type": "code",
   "execution_count": 6,
   "metadata": {
    "id": "n0MLmi_1Qz-g"
   },
   "outputs": [],
   "source": [
    "# pumping amp.\n",
    "def Pump(t,pump_SB):\n",
    "    #print(t, t/(T_max*eps))\n",
    "    return  (t/(T_max*eps))**1.0 #pump_SB * t\n",
    "\n",
    "def Dqd2(q, t,J,h,D_SB,pump_SB,xi_SB,bai,d_flag,x_lmmse):\n",
    "    if d_flag == 0:\n",
    "        # ballistic ver. by arXiv:2210.14660\n",
    "        DE_QUBO = q@J + 0.5*h+ 0.5*(q - x_lmmse)\n",
    "    if d_flag == 1:\n",
    "        # discritized ver. by arXiv:2210.14660\n",
    "        DE_QUBO = q.sign()@J + 0.5*h+ 0.5*(q - x_lmmse)\n",
    "    #return - xi_SB * DE_QUBO\n",
    "    return - bai*(-Pump(t,pump_SB) + D_SB) * q - xi_SB * DE_QUBO\n",
    "\n",
    "def dSB2(q,p,t,eps,J,h,D_SB,pump_SB,xi_SB,bai,d_flag,x_lmmse):\n",
    "    q_ = q + (eps * D_SB) * p\n",
    "    q_2 = torch.clamp(q_, min=-1.,max=1.)\n",
    "    p_ = p + eps * Dqd2(q_2,t,J,h,D_SB,pump_SB,xi_SB,bai,d_flag,x_lmmse) #diff(q,Po)\n",
    "    p_[torch.abs(q_)>1] = 0.0\n",
    "    return q_2,p_\n",
    "\n",
    "def dSB_MIMOmod(T_max,bs,M,N,J,h,D_SB,pump_SB,xi_SB,eps,bai,d_flag,x_lmmse):\n",
    "    q = torch.zeros(bs, N,device=device) # x\n",
    "    p = torch.zeros(bs, N,device=device) # y\n",
    "    q_traj = np.zeros([T_max, N]) # trajectory\n",
    "    p_traj = np.zeros([T_max, N]) # trajectory\n",
    "    p = torch.randn(bs,N,device=device)\n",
    "    t = 0.0\n",
    "\n",
    "    for i in range(T_max):\n",
    "        t = t + eps\n",
    "        q, p = dSB2(q,p,t,eps,J,h,D_SB,pump_SB,xi_SB,bai,d_flag,x_lmmse)\n",
    "        q_traj[i]=q[0,:].cpu().detach().numpy()\n",
    "        p_traj[i]=p[0,:].cpu().detach().numpy()\n",
    "    return q, p, q_traj, p_traj\n",
    "\n",
    "\n"
   ]
  },
  {
   "cell_type": "code",
   "execution_count": 7,
   "metadata": {
    "colab": {
     "base_uri": "https://localhost:8080/"
    },
    "id": "eFp36eL5OzKJ",
    "outputId": "30adaf37-5e44-461b-e0a0-ef5d87766bd5"
   },
   "outputs": [
    {
     "name": "stdout",
     "output_type": "stream",
     "text": [
      "SNR, BER\n",
      "5.0 0.10826750946044922\n",
      "10.0 0.004044766902923584\n",
      "15.0 3.58562208712101e-05\n",
      "20.0 7.72344134747982e-06\n",
      "25.0 3.3703132066875697e-06\n",
      "30.0 2.0640622824430466e-06\n",
      "35.0 1.7187503399327397e-06\n"
     ]
    }
   ],
   "source": [
    "##\n",
    "eps = 1.0\n",
    "D_SB = 1.0\n",
    "T_max = 50\n",
    "trial=1 # repeating from another init point\n",
    "d_flag = 0 #0=ballisctic(no sign), 1=digital(sign)\n",
    "\n",
    "print(\"SNR, BER\")\n",
    "for snr in np.arange(5.0,35.1,5.0):#35.1,5.0):\n",
    "    sigma_std = est_SNR(snr, m,n)\n",
    "    ber_ =0.0\n",
    "\n",
    "    for i in range(ss):\n",
    "        H = H_gen(m,n)\n",
    "        sol = x_gen(bs,N)\n",
    "        y = y_gen(bs,M,sol,H,sigma_std)\n",
    "        J, h = trans_2_QUBO(H,y)\n",
    "        #J_, _ = trans_2_QUBO(H,y)\n",
    "        lmax_2 = ((J*J).sum()/(N*(N-1)))**0.5 #estimated max. eig.\n",
    "        xi_SB_ = D_SB/(2*N**0.5*lmax_2)\n",
    "        x_lmmse =y@(torch.linalg.inv(H.t()@H+sigma_std * torch.eye(2*n,device=device))@H.t())\n",
    "        xx = torch.zeros(bs,N,device=device)\n",
    "        res = 100*torch.ones(bs,N,device=device)\n",
    "        for k in range(trial):\n",
    "            x_hat ,_,q_traj ,_= dSB_MIMOmod(T_max,bs,M,N,J,h,D_SB,pump_SB,xi_SB_,eps,1.0,d_flag,x_lmmse)\n",
    "            res_ = (y-x_hat.sign()@H).norm(dim=1).view(bs,1).repeat(1,N).view(bs,N)\n",
    "            #print(res_)\n",
    "            xx[res_<res] = x_hat[res_<res]\n",
    "            res[res_<res] = res_[res_<res]\n",
    "        ber_ += BER(sol,xx.sign())\n",
    "    print(snr, ber_.item()/ss)"
   ]
  },
  {
   "cell_type": "markdown",
   "metadata": {
    "id": "WH3bi-DB7Q8Q"
   },
   "source": [
    "### LM-SB (LMMSE-like matrix based)"
   ]
  },
  {
   "cell_type": "code",
   "execution_count": 8,
   "metadata": {
    "id": "Fp0lX8TB7dvJ"
   },
   "outputs": [],
   "source": [
    "# pumping amp.\n",
    "def Pump(t,pump_SB):\n",
    "    #print(t, t/(T_max*eps))\n",
    "    return  (t/(T_max*eps))**1.0 #pump_SB * t\n",
    "\n",
    "def Dqd3(q, t,J,h,D_SB,pump_SB,xi_SB,bai,d_flag,x_lmmse):\n",
    "    if d_flag == 0:\n",
    "        # ballistic ver. by arXiv:2210.14660\n",
    "        DE_QUBO = q@J + 0.5*h\n",
    "    if d_flag == 1:\n",
    "        # discritized ver. by arXiv:2210.14660\n",
    "        DE_QUBO = q.sign()@J + 0.5*h\n",
    "    #return - xi_SB * DE_QUBO\n",
    "    return - bai*(-Pump(t,pump_SB) + D_SB) * q - xi_SB * DE_QUBO\n",
    "\n",
    "def dSB2(q,p,t,eps,J,h,D_SB,pump_SB,xi_SB,bai,d_flag,x_lmmse):\n",
    "    q_ = q + (eps * D_SB) * p\n",
    "    q_2 = torch.clamp(q_, min=-1.,max=1.)\n",
    "    p_ = p + eps * Dqd3(q_2,t,J,h,D_SB,pump_SB,xi_SB,bai,d_flag,x_lmmse) #diff(q,Po)\n",
    "    p_[torch.abs(q_)>1] = 0.0\n",
    "    return q_2,p_\n",
    "\n",
    "def dSB_MIMOmod(T_max,bs,M,N,J,h,D_SB,pump_SB,xi_SB,eps,bai,d_flag,x_lmmse):\n",
    "    q = torch.zeros(bs, N,device=device) # x\n",
    "    p = torch.zeros(bs, N,device=device) # y\n",
    "    q_traj = np.zeros([T_max, N]) # trajectory\n",
    "    p_traj = np.zeros([T_max, N]) # trajectory\n",
    "    p = torch.randn(bs,N,device=device)\n",
    "    t = 0.0\n",
    "\n",
    "    for i in range(T_max):\n",
    "        t = t + eps\n",
    "        q, p = dSB2(q,p,t,eps,J,h,D_SB,pump_SB,xi_SB,bai,d_flag,x_lmmse)\n",
    "        q_traj[i]=q[0,:].cpu().detach().numpy()\n",
    "        p_traj[i]=p[0,:].cpu().detach().numpy()\n",
    "    return q, p, q_traj, p_traj\n",
    "\n",
    "\n"
   ]
  },
  {
   "cell_type": "code",
   "execution_count": 9,
   "metadata": {
    "colab": {
     "base_uri": "https://localhost:8080/"
    },
    "id": "7WmRCApM7Vg6",
    "outputId": "8eb46977-ec53-4eae-c512-702bb04f7e06"
   },
   "outputs": [
    {
     "name": "stdout",
     "output_type": "stream",
     "text": [
      "SNR, BER\n",
      "5.0 0.2075189208984375\n",
      "10.0 0.07417031860351563\n",
      "15.0 0.002464015483856201\n",
      "20.0 1.5000058338046073e-06\n",
      "25.0 0.0\n",
      "30.0 0.0\n",
      "35.0 4.999999873689376e-08\n"
     ]
    }
   ],
   "source": [
    "def trans_2_QUBO2(H,y):\n",
    "    J = H@H.t() - torch.diag(torch.diagonal(H@H.t(),0))\n",
    "    h = -2*y@H.t()\n",
    "    return J,h\n",
    "\n",
    "##\n",
    "LM_lam = 1.0 #lambda in LMMSE matrix\n",
    "T_max = 50\n",
    "trial=1 # repeating from another init point\n",
    "ss = 1000\n",
    "d_flag = 0 #0=ballisctic(no sign), 1=digital(sign)\n",
    "\n",
    "\n",
    "print(\"SNR, BER\")\n",
    "for snr in np.arange(5.0,35.1,5.0):#35.1,5.0):\n",
    "    sigma_std = est_SNR(snr, m,n)\n",
    "    ber_ =0.0\n",
    "    for i in range(ss):\n",
    "        H = H_gen(m,n)\n",
    "        sol = x_gen(bs,N)\n",
    "        y = y_gen(bs,M,sol,H,sigma_std)\n",
    "        J, h, _ = trans_2_QUBO_LMMSE(H,y,LM_lam)\n",
    "        lmax_2 = ((J*J).sum()/(N*(N-1)))**0.5 #estimated max. eig.\n",
    "        xi_SB_ = D_SB/(2*N**0.5*lmax_2)\n",
    "\n",
    "        xx = torch.zeros(bs,N,device=device)\n",
    "        res = 100*torch.ones(bs,N,device=device)\n",
    "        for k in range(trial):\n",
    "            x_hat ,_,q_traj ,_= dSB_MIMOmod(T_max,bs,M,N,J,h,D_SB,pump_SB,xi_SB_,eps,1.0,d_flag,x_lmmse)\n",
    "            res_ = (y-x_hat.sign()@H).norm(dim=1).view(bs,1).repeat(1,N).view(bs,N)\n",
    "            #print(res_)\n",
    "            xx[res_<res] = x_hat[res_<res]\n",
    "            res[res_<res] = res_[res_<res]\n",
    "        ber_ += BER(sol,xx.sign())\n",
    "    print(snr,ber_.item()/ss)"
   ]
  },
  {
   "cell_type": "code",
   "execution_count": null,
   "metadata": {
    "id": "cKOtfTvMXWqW"
   },
   "outputs": [],
   "source": []
  }
 ],
 "metadata": {
  "accelerator": "GPU",
  "colab": {
   "authorship_tag": "ABX9TyPJaVeY4sZHBQKQPxak+2MJ",
   "provenance": []
  },
  "gpuClass": "standard",
  "kernelspec": {
   "display_name": "pytorch2_0_1",
   "language": "python",
   "name": "python3"
  },
  "language_info": {
   "codemirror_mode": {
    "name": "ipython",
    "version": 3
   },
   "file_extension": ".py",
   "mimetype": "text/x-python",
   "name": "python",
   "nbconvert_exporter": "python",
   "pygments_lexer": "ipython3",
   "version": "3.9.20"
  }
 },
 "nbformat": 4,
 "nbformat_minor": 0
}
